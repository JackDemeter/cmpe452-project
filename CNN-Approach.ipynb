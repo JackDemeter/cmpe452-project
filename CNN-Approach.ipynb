{
 "cells": [
  {
   "cell_type": "code",
   "execution_count": 1,
   "metadata": {},
   "outputs": [],
   "source": [
    "import pandas as pd\n",
    "import numpy as np\n"
   ]
  },
  {
   "cell_type": "markdown",
   "metadata": {},
   "source": [
    "## Initial processing"
   ]
  },
  {
   "cell_type": "code",
   "execution_count": 2,
   "metadata": {},
   "outputs": [],
   "source": [
    "data = pd.read_csv(\"data/processed_data.csv\")"
   ]
  },
  {
   "cell_type": "code",
   "execution_count": 3,
   "metadata": {},
   "outputs": [],
   "source": [
    "def string_to_num_list(string):\n",
    "    return [int(num) for num in string.strip(\" []\").split(',')]\n",
    "\n",
    "def string_to_list(string):\n",
    "    return string.strip(\" []\").split(',')\n",
    "\n",
    "data['vector'] = data['vector'].apply(string_to_num_list)"
   ]
  },
  {
   "cell_type": "markdown",
   "metadata": {},
   "source": [
    "## OH Vectorization"
   ]
  },
  {
   "cell_type": "code",
   "execution_count": 4,
   "metadata": {},
   "outputs": [],
   "source": [
    "# determine max width\n",
    "width = max(data['NumberOfWords'])"
   ]
  },
  {
   "cell_type": "code",
   "execution_count": 5,
   "metadata": {},
   "outputs": [],
   "source": [
    "# Attempting to run this will brick your comp (most likely). Instead you can try to do OH vectorization at runtime.\n",
    "def OH_vector(vector_list):\n",
    "    global width\n",
    "    vocab = 7774\n",
    "    OH_matrix = np.zeros((vocab,width), dtype=np.int8)\n",
    "    for index,vector in enumerate(vector_list):\n",
    "        OH_matrix[vector][index]=1\n",
    "#     OH_matrix = np.expand_dims(OH_matrix, axis=0)\n",
    "    OH_matrix = np.expand_dims(OH_matrix, axis=-1)\n",
    "    return OH_matrix\n",
    "\n",
    "def BOW(vector_list):\n",
    "    vocab = 7774\n",
    "    OH_matrix = np.zeros(vocab, dtype=np.float32)\n",
    "    for vector in vector_list:\n",
    "        OH_matrix[vector]=1\n",
    "    return OH_matrix\n",
    "\n",
    "train = data[:30000]\n",
    "train_x = train['vector'].apply(OH_vector)\n",
    "train_y = train['BooleanSentiment']\n",
    "test = data[30000:]\n",
    "test_x = test['vector'].apply(OH_vector)\n",
    "test_y = test['BooleanSentiment']"
   ]
  },
  {
   "cell_type": "code",
   "execution_count": 6,
   "metadata": {},
   "outputs": [
    {
     "data": {
      "text/plain": [
       "(6623, 7774, 58, 1)"
      ]
     },
     "execution_count": 6,
     "metadata": {},
     "output_type": "execute_result"
    }
   ],
   "source": [
    "test_x = np.array(test_x.to_list())\n",
    "train_x = np.array(train_x.to_list())\n",
    "test_x.shape"
   ]
  },
  {
   "cell_type": "code",
   "execution_count": 7,
   "metadata": {},
   "outputs": [
    {
     "data": {
      "text/plain": [
       "(6623,)"
      ]
     },
     "execution_count": 7,
     "metadata": {},
     "output_type": "execute_result"
    }
   ],
   "source": [
    "test_y = np.array(test_y.to_list()).astype(np.float32)\n",
    "train_y = np.array(train_y.to_list()).astype(np.float32)\n",
    "test_y.shape"
   ]
  },
  {
   "cell_type": "markdown",
   "metadata": {},
   "source": [
    "## Create CNN"
   ]
  },
  {
   "cell_type": "code",
   "execution_count": 8,
   "metadata": {},
   "outputs": [],
   "source": [
    "import tensorflow as tf\n",
    "from tensorflow.keras import datasets, layers, models"
   ]
  },
  {
   "cell_type": "code",
   "execution_count": 21,
   "metadata": {},
   "outputs": [
    {
     "name": "stdout",
     "output_type": "stream",
     "text": [
      "Model: \"sequential_4\"\n",
      "_________________________________________________________________\n",
      "Layer (type)                 Output Shape              Param #   \n",
      "=================================================================\n",
      "conv2d_4 (Conv2D)            (None, 1, 52, 32)         1741408   \n",
      "_________________________________________________________________\n",
      "max_pooling2d_4 (MaxPooling2 (None, 1, 17, 32)         0         \n",
      "_________________________________________________________________\n",
      "flatten_4 (Flatten)          (None, 544)               0         \n",
      "_________________________________________________________________\n",
      "dense_7 (Dense)              (None, 1)                 545       \n",
      "=================================================================\n",
      "Total params: 1,741,953\n",
      "Trainable params: 1,741,953\n",
      "Non-trainable params: 0\n",
      "_________________________________________________________________\n"
     ]
    }
   ],
   "source": [
    "# Convolutional layers\n",
    "model = models.Sequential()\n",
    "model.add(layers.Conv2D(32, (7774, 7), activation='tanh', input_shape=(7774, 58,1)))\n",
    "model.add(layers.MaxPooling2D((1, 3)))\n",
    "\n",
    "# Dense/FC layers\n",
    "model.add(layers.Flatten())\n",
    "# model.add(layers.Dense(128, activation='relu'))\n",
    "model.add(layers.Dense(1))\n",
    "\n",
    "model.summary()"
   ]
  },
  {
   "cell_type": "code",
   "execution_count": 22,
   "metadata": {},
   "outputs": [
    {
     "name": "stdout",
     "output_type": "stream",
     "text": [
      "Epoch 1/10\n",
      "938/938 [==============================] - 350s 373ms/step - loss: 0.7611 - accuracy: 0.6698 - val_loss: 0.4962 - val_accuracy: 0.8140\n",
      "Epoch 2/10\n",
      "938/938 [==============================] - 344s 367ms/step - loss: 0.2385 - accuracy: 0.9378 - val_loss: 0.5661 - val_accuracy: 0.8202\n",
      "Epoch 3/10\n",
      "938/938 [==============================] - 343s 366ms/step - loss: 0.0870 - accuracy: 0.9888 - val_loss: 0.6680 - val_accuracy: 0.8323\n",
      "Epoch 4/10\n",
      "938/938 [==============================] - 348s 371ms/step - loss: 0.0732 - accuracy: 0.9946 - val_loss: 0.7321 - val_accuracy: 0.8295\n",
      "Epoch 5/10\n",
      "938/938 [==============================] - 346s 369ms/step - loss: 0.0667 - accuracy: 0.9955 - val_loss: 0.7938 - val_accuracy: 0.8285\n",
      "Epoch 6/10\n",
      "938/938 [==============================] - 352s 375ms/step - loss: 0.0502 - accuracy: 0.9966 - val_loss: 0.8628 - val_accuracy: 0.8304\n",
      "Epoch 7/10\n",
      "938/938 [==============================] - 386s 412ms/step - loss: 0.0580 - accuracy: 0.9961 - val_loss: 0.9102 - val_accuracy: 0.8280\n",
      "Epoch 8/10\n",
      "938/938 [==============================] - 376s 401ms/step - loss: 0.0550 - accuracy: 0.9964 - val_loss: 0.9851 - val_accuracy: 0.8279\n",
      "Epoch 9/10\n",
      "938/938 [==============================] - 365s 389ms/step - loss: 0.0541 - accuracy: 0.9964 - val_loss: 1.1011 - val_accuracy: 0.8286\n",
      "Epoch 10/10\n",
      "938/938 [==============================] - 340s 363ms/step - loss: 0.0620 - accuracy: 0.9959 - val_loss: 1.2645 - val_accuracy: 0.8246\n"
     ]
    }
   ],
   "source": [
    "model.compile(optimizer='adam',\n",
    "              loss='binary_crossentropy',\n",
    "              metrics=['accuracy'])\n",
    "\n",
    "history = model.fit(train_x, train_y, epochs=10, \n",
    "                    validation_data=(test_x, test_y))"
   ]
  },
  {
   "cell_type": "code",
   "execution_count": null,
   "metadata": {},
   "outputs": [],
   "source": [
    "train"
   ]
  },
  {
   "cell_type": "code",
   "execution_count": 12,
   "metadata": {},
   "outputs": [
    {
     "data": {
      "text/plain": [
       "0.5365"
      ]
     },
     "execution_count": 12,
     "metadata": {},
     "output_type": "execute_result"
    }
   ],
   "source": [
    "sum(train_y)/len(train_y)"
   ]
  },
  {
   "cell_type": "code",
   "execution_count": 13,
   "metadata": {},
   "outputs": [
    {
     "data": {
      "text/plain": [
       "0.5280084553827571"
      ]
     },
     "execution_count": 13,
     "metadata": {},
     "output_type": "execute_result"
    }
   ],
   "source": [
    "sum(test_y)/len(test_y)"
   ]
  },
  {
   "cell_type": "code",
   "execution_count": null,
   "metadata": {},
   "outputs": [],
   "source": [
    "# model.save(\"model/CNN1.h5\")"
   ]
  },
  {
   "cell_type": "code",
   "execution_count": null,
   "metadata": {},
   "outputs": [],
   "source": [
    "## Custom example"
   ]
  },
  {
   "cell_type": "code",
   "execution_count": null,
   "metadata": {},
   "outputs": [],
   "source": [
    "sample = OH_vector([3, 10, 34, 248, 881, 14, 107])\n",
    "sample = np.expand_dims(sample, axis=0)\n",
    "sample.shape"
   ]
  },
  {
   "cell_type": "code",
   "execution_count": null,
   "metadata": {},
   "outputs": [],
   "source": [
    "model.predict(sample)"
   ]
  },
  {
   "cell_type": "code",
   "execution_count": null,
   "metadata": {},
   "outputs": [],
   "source": []
  }
 ],
 "metadata": {
  "kernelspec": {
   "display_name": "Python 3",
   "language": "python",
   "name": "python3"
  },
  "language_info": {
   "codemirror_mode": {
    "name": "ipython",
    "version": 3
   },
   "file_extension": ".py",
   "mimetype": "text/x-python",
   "name": "python",
   "nbconvert_exporter": "python",
   "pygments_lexer": "ipython3",
   "version": "3.8.5"
  }
 },
 "nbformat": 4,
 "nbformat_minor": 4
}
